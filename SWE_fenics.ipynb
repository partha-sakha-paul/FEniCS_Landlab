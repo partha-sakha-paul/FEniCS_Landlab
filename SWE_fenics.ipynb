{
 "cells": [
  {
   "cell_type": "code",
   "execution_count": 14,
   "id": "bc3e8620-286a-4b28-af74-4a4865d408f3",
   "metadata": {},
   "outputs": [
    {
     "name": "stdout",
     "output_type": "stream",
     "text": [
      "0.10.0.0\n"
     ]
    }
   ],
   "source": [
    "print(dolfinx.__version__)"
   ]
  },
  {
   "cell_type": "code",
   "execution_count": 15,
   "id": "d3c4e38b-9900-472a-990b-e14e90f9ff68",
   "metadata": {},
   "outputs": [
    {
     "ename": "AttributeError",
     "evalue": "module 'dolfinx.mesh' has no attribute 'ufl_cell'",
     "output_type": "error",
     "traceback": [
      "\u001b[0;31m---------------------------------------------------------------------------\u001b[0m",
      "\u001b[0;31mAttributeError\u001b[0m                            Traceback (most recent call last)",
      "Cell \u001b[0;32mIn[15], line 1\u001b[0m\n\u001b[0;32m----> 1\u001b[0m \u001b[38;5;28mprint\u001b[39m(\u001b[43mmesh\u001b[49m\u001b[38;5;241;43m.\u001b[39;49m\u001b[43mufl_cell\u001b[49m())\n",
      "\u001b[0;31mAttributeError\u001b[0m: module 'dolfinx.mesh' has no attribute 'ufl_cell'"
     ]
    }
   ],
   "source": []
  },
  {
   "cell_type": "code",
   "execution_count": 4,
   "id": "4f91205c-c7f2-4d58-a7d1-16658b692655",
   "metadata": {},
   "outputs": [],
   "source": [
    "# V = functionspace(mesh, (\"Lagrange\", 1))"
   ]
  },
  {
   "cell_type": "code",
   "execution_count": 5,
   "id": "2a3f95e5-79b4-48b7-92d8-9d9c7e8c0617",
   "metadata": {},
   "outputs": [],
   "source": [
    "# import basix \n",
    "# # basix.ufl.element(family, cell, degree, shape=(N,))\n",
    "\n",
    "# # Define the vector element for a continuous Galerkin (CG) element of degree 1\n",
    "# element = basix.ufl.element(\"Lagrange\", \"quadrilateral\", 1, shape=(2,))\n",
    "\n",
    "# # Create the vector function space using the element and the mesh\n",
    "# V_vec = functionspace(mesh, element)"
   ]
  },
  {
   "cell_type": "code",
   "execution_count": null,
   "id": "d7465ea1-e59b-4a67-9f0f-c0ccf724b862",
   "metadata": {},
   "outputs": [],
   "source": [
    "# el = basix.ufl.element(\"Lagrange\", cell, 3)\n",
    "# M = 3\n",
    "# N = 2\n",
    "# tensor_el = basix.ufl.element(\"Lagrange\", cell, 2, shape=(M, N))\n",
    "# vector_element = basix.ufl.element(\"Lagrange\", cell, 3, shape=(7,))"
   ]
  },
  {
   "cell_type": "code",
   "execution_count": 1,
   "id": "e0e33bd9-fecc-4491-b292-5ba77c8175ec",
   "metadata": {},
   "outputs": [
    {
     "ename": "AttributeError",
     "evalue": "module 'dolfinx.mesh' has no attribute 'ufl_cell'",
     "output_type": "error",
     "traceback": [
      "\u001b[0;31m---------------------------------------------------------------------------\u001b[0m",
      "\u001b[0;31mAttributeError\u001b[0m                            Traceback (most recent call last)",
      "Cell \u001b[0;32mIn[1], line 24\u001b[0m\n\u001b[1;32m     19\u001b[0m \u001b[38;5;66;03m# Create a 2D rectangular mesh\u001b[39;00m\n\u001b[1;32m     20\u001b[0m domain \u001b[38;5;241m=\u001b[39m mesh\u001b[38;5;241m.\u001b[39mcreate_rectangle(MPI\u001b[38;5;241m.\u001b[39mCOMM_WORLD, \n\u001b[1;32m     21\u001b[0m                                 [np\u001b[38;5;241m.\u001b[39marray([\u001b[38;5;241m0.0\u001b[39m, \u001b[38;5;241m0.0\u001b[39m]), np\u001b[38;5;241m.\u001b[39marray([Lx, Ly])], \n\u001b[1;32m     22\u001b[0m                                 [nx, ny], \n\u001b[1;32m     23\u001b[0m                                 cell_type\u001b[38;5;241m=\u001b[39mmesh\u001b[38;5;241m.\u001b[39mCellType\u001b[38;5;241m.\u001b[39mquadrilateral)\n\u001b[0;32m---> 24\u001b[0m \u001b[38;5;28mprint\u001b[39m(\u001b[43mmesh\u001b[49m\u001b[38;5;241;43m.\u001b[39;49m\u001b[43mufl_cell\u001b[49m())\n\u001b[1;32m     25\u001b[0m \u001b[38;5;66;03m# Define mixed function space for h, qx, and qy\u001b[39;00m\n\u001b[1;32m     26\u001b[0m \u001b[38;5;66;03m# Create FiniteElement instances\u001b[39;00m\n\u001b[1;32m     27\u001b[0m cell \u001b[38;5;241m=\u001b[39m \u001b[38;5;28mstr\u001b[39m(domain\u001b[38;5;241m.\u001b[39mufl_cell())\n",
      "\u001b[0;31mAttributeError\u001b[0m: module 'dolfinx.mesh' has no attribute 'ufl_cell'"
     ]
    }
   ],
   "source": [
    "import numpy as np\n",
    "from mpi4py import MPI\n",
    "from dolfinx import mesh, fem, nls\n",
    "import ufl\n",
    "import basix\n",
    "from ufl import MixedPullback\n",
    "from ufl.pullback import IdentityPullback\n",
    "from ufl import TrialFunction, TestFunction, div, dx\n",
    "from ufl.finiteelement import FiniteElement, MixedElement\n",
    "import pyvista as pv\n",
    "\n",
    "\n",
    "# Domain parameters\n",
    "Lx = 10.0  # Length of the domain in the x direction\n",
    "Ly = 5.0   # Length of the domain in the y direction\n",
    "nx = 40    # Number of elements in the x direction\n",
    "ny = 20    # Number of elements in the y direction\n",
    "\n",
    "# Create a 2D rectangular mesh\n",
    "domain = mesh.create_rectangle(MPI.COMM_WORLD, \n",
    "                                [np.array([0.0, 0.0]), np.array([Lx, Ly])], \n",
    "                                [nx, ny], \n",
    "                                cell_type=mesh.CellType.quadrilateral)\n",
    "print(mesh.ufl_cell())\n",
    "# Define mixed function space for h, qx, and qy\n",
    "# Create FiniteElement instances\n",
    "cell = str(domain.ufl_cell())\n",
    "print(cell)\n",
    "element_h = basix.ufl.element(\"Lagrange\", cell, 1)  # for h\n",
    "element_qx = basix.ufl.element(\"Lagrange\", cell, 1)  #  for qx\n",
    "element_qy = basix.ufl.element(\"Lagrange\", cell, 1)  #  for qy\n",
    "\n",
    "# Create a mixed element from the individual elements\n",
    "element = basix.ufl.mixed_element([element_h, element_qx, element_qy])  \n",
    "V = fem.functionspace(domain, element)  # usage of FunctionSpace\n",
    "\n",
    "\n",
    "# Define functions for h, qx, and qy\n",
    "W = fem.Function(V)\n",
    "h, qx, qy = W.split()\n",
    "\n",
    "# Set initial conditions\n",
    "h_init = 1.0  # Initial water depth\n",
    "qx_init = 0.0  # Initial discharge in x\n",
    "qy_init = 0.0  # Initial discharge in y\n",
    "\n",
    "# Assign initial values (fixed constant values over the domain)\n",
    "h.interpolate(lambda x: np.full_like(x[0], h_init))\n",
    "qx.interpolate(lambda x: np.full_like(x[0], qx_init))\n",
    "qy.interpolate(lambda x: np.full_like(x[0], qy_init))\n",
    "print(h.x.array.shape)\n",
    "print(h.x.array.shape)\n",
    "print(h.x.array.shape)\n",
    "\n",
    "\n",
    "# Define parameters\n",
    "g = 9.81  # Gravitational acceleration\n",
    "n = 0.03  # Manning's friction coefficient\n",
    "\n",
    "# Time-stepping parameters\n",
    "dt = 0.1  # Time step size\n",
    "T = 10.0  # Total simulation time\n",
    "num_steps = int(T / dt)  # Number of time steps\n",
    "\n",
    "# Define trial and test functions\n",
    "W_prev = fem.Function(V)  # Previous values\n",
    "h_prev, qx_prev, qy_prev = W_prev.split()"
   ]
  },
  {
   "cell_type": "code",
   "execution_count": null,
   "id": "cdb30c99-f004-458e-ac4e-ee0cc2bc765c",
   "metadata": {},
   "outputs": [],
   "source": []
  }
 ],
 "metadata": {
  "kernelspec": {
   "display_name": "Python 3 (ipykernel)",
   "language": "python",
   "name": "python3"
  },
  "language_info": {
   "codemirror_mode": {
    "name": "ipython",
    "version": 3
   },
   "file_extension": ".py",
   "mimetype": "text/x-python",
   "name": "python",
   "nbconvert_exporter": "python",
   "pygments_lexer": "ipython3",
   "version": "3.12.3"
  }
 },
 "nbformat": 4,
 "nbformat_minor": 5
}
